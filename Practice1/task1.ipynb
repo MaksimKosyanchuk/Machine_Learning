{
 "cells": [
  {
   "cell_type": "markdown",
   "metadata": {
    "collapsed": false,
    "jupyter": {
     "outputs_hidden": false
    }
   },
   "source": [
    "# Практика №1"
   ]
  },
  {
   "cell_type": "markdown",
   "metadata": {
    "collapsed": false,
    "jupyter": {
     "outputs_hidden": false
    }
   },
   "source": [
    "Розглянемо спрощену задачу відновлення залежності. Отже, на вході маємо координати двох точок. На виході необхідно отримати рівняння прямої, що проходить через обидві точки.\n",
    "\n",
    "Таким чином, завдання полягає в тому, щоб реалізувати функцію, яка приймає значення координат двох точок як вхідні параметри і повертає рядок, який представляє собою рівняння прямої\n"
   ]
  },
  {
   "cell_type": "markdown",
   "metadata": {
    "collapsed": false,
    "jupyter": {
     "outputs_hidden": false
    }
   },
   "source": [
    "Нехай заданими двома точками є $A(x_1, y_1)$ і $B(x_2, y_2)$. Тепер необхідно знайти рівняння прямої, утвореної цими точками.\n",
    "\n",
    "Нагадаємо, що будь-яку пряму можна представити наступним чином:\n",
    "$$\n",
    "ax + by = c\n",
    "$$\n",
    "\n",
    "Нехай дві точки задовольняють дану пряму. В такому випадку маємо наступне\n",
    "$$\n",
    "ax_1 + by_1 = c\n",
    "$$\n",
    "$$\n",
    "ax_2 + by_2 = c\n",
    "$$"
   ]
  },
  {
   "cell_type": "markdown",
   "metadata": {
    "collapsed": false,
    "jupyter": {
     "outputs_hidden": false
    }
   },
   "source": [
    "### Завдання 1.\n",
    "Враховуючи те, що можна встановити такі значення, щоб усі вищезазначені рівняння були вірними, вам необхідно отримати вирази для $a$ і $b$, а потім обрахувати значення $c$."
   ]
  },
  {
   "cell_type": "markdown",
   "metadata": {
    "collapsed": false,
    "jupyter": {
     "outputs_hidden": false
    }
   },
   "source": [
    "#### Приклад:\n",
    "Для двох точок $A = (3, 2)$ і $B = (5, 7)$ отримаємо рівняння $$5x-2y=11$$"
   ]
  },
  {
   "cell_type": "markdown",
   "metadata": {
    "collapsed": false,
    "jupyter": {
     "outputs_hidden": false
    }
   },
   "source": [
    "### Завдання 2.\n",
    "Реалізувати функцію, яка буде повертати рівняння прямої."
   ]
  },
  {
   "cell_type": "code",
   "execution_count": 3,
   "metadata": {
    "ExecuteTime": {
     "end_time": "2023-09-05T08:18:26.120313800Z",
     "start_time": "2023-09-05T08:18:26.120313800Z"
    },
    "collapsed": false,
    "jupyter": {
     "outputs_hidden": false
    }
   },
   "outputs": [],
   "source": [
    "from line_func import line_func"
   ]
  },
  {
   "cell_type": "markdown",
   "metadata": {},
   "source": [
    "### Пример"
   ]
  },
  {
   "cell_type": "code",
   "execution_count": 4,
   "metadata": {},
   "outputs": [
    {
     "data": {
      "text/plain": [
       "'5x + -2y = 11'"
      ]
     },
     "execution_count": 4,
     "metadata": {},
     "output_type": "execute_result"
    }
   ],
   "source": [
    "line_func(3,2,5,7)"
   ]
  }
 ],
 "metadata": {
  "kernelspec": {
   "display_name": "Python 3 (ipykernel)",
   "language": "python",
   "name": "python3"
  },
  "language_info": {
   "codemirror_mode": {
    "name": "ipython",
    "version": 3
   },
   "file_extension": ".py",
   "mimetype": "text/x-python",
   "name": "python",
   "nbconvert_exporter": "python",
   "pygments_lexer": "ipython3",
   "version": "3.12.1"
  }
 },
 "nbformat": 4,
 "nbformat_minor": 4
}
