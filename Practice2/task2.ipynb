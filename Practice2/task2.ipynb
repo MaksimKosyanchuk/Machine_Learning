{
 "cells": [
  {
   "cell_type": "markdown",
   "id": "484239dfe77bd680",
   "metadata": {
    "collapsed": false,
    "jupyter": {
     "outputs_hidden": false
    }
   },
   "source": [
    "# Практика №2\n",
    "## Робота з NumPy\n"
   ]
  },
  {
   "cell_type": "code",
   "execution_count": 36,
   "id": "c2515f4c385bf434",
   "metadata": {
    "ExecuteTime": {
     "end_time": "2023-09-11T22:14:24.726729900Z",
     "start_time": "2023-09-11T22:14:24.633722900Z"
    },
    "collapsed": false,
    "jupyter": {
     "outputs_hidden": false
    }
   },
   "outputs": [],
   "source": [
    "import numpy as np"
   ]
  },
  {
   "cell_type": "markdown",
   "id": "1fe29497-d877-4959-b968-b42e7f46cd68",
   "metadata": {
    "ExecuteTime": {
     "end_time": "2023-09-11T22:15:50.274912900Z",
     "start_time": "2023-09-11T22:15:50.268226800Z"
    },
    "collapsed": false,
    "jupyter": {
     "outputs_hidden": false
    }
   },
   "source": [
    "### 1. Створіть вектор (1,2,3) і виведіть його. Виведіть тип масиву."
   ]
  },
  {
   "cell_type": "code",
   "execution_count": 37,
   "id": "c03bbaa4-40ab-47b0-9714-5de905a074db",
   "metadata": {
    "ExecuteTime": {
     "end_time": "2023-09-11T22:15:50.274912900Z",
     "start_time": "2023-09-11T22:15:50.268226800Z"
    },
    "collapsed": false,
    "jupyter": {
     "outputs_hidden": false
    }
   },
   "outputs": [
    {
     "name": "stdout",
     "output_type": "stream",
     "text": [
      "Вектор: [1 2 3]\n",
      "Тип масиву: <class 'numpy.ndarray'>\n"
     ]
    }
   ],
   "source": [
    "vector = np.array([1, 2, 3])\n",
    "print(\"Вектор:\", vector)\n",
    "print(\"Тип масиву:\", type(vector))"
   ]
  },
  {
   "cell_type": "markdown",
   "id": "dab4f3a6-5eb4-476f-a5d6-261168397207",
   "metadata": {
    "collapsed": false,
    "jupyter": {
     "outputs_hidden": false
    }
   },
   "source": [
    "### 2. Створіть наступну матрицю і виведіть її:\n",
    "$$\n",
    "\\left(\\begin{array}{cc} \n",
    "1 & 2 & 3\\\\\n",
    "4 & 5 & 6\\\\\n",
    "7 & 8 & 9\n",
    "\\end{array}\\right)\n",
    "$$ "
   ]
  },
  {
   "cell_type": "code",
   "execution_count": 38,
   "id": "21e54c74-777c-4dc9-8d9d-46fb7be61af1",
   "metadata": {
    "collapsed": false,
    "jupyter": {
     "outputs_hidden": false
    }
   },
   "outputs": [
    {
     "name": "stdout",
     "output_type": "stream",
     "text": [
      "[[1 2 3]\n",
      " [4 5 6]\n",
      " [7 8 9]]\n"
     ]
    }
   ],
   "source": [
    "matrix = np.array([[1, 2, 3],\n",
    "                   [4, 5, 6],\n",
    "                   [7, 8, 9]])\n",
    "print(matrix)"
   ]
  },
  {
   "cell_type": "markdown",
   "id": "a2cea705-bbb3-481f-97a7-3a3d21a93038",
   "metadata": {
    "collapsed": false,
    "jupyter": {
     "outputs_hidden": false
    }
   },
   "source": [
    "### 3. Створіть нульову матрицю розміром (4,5) - див. numpy.zeros."
   ]
  },
  {
   "cell_type": "code",
   "execution_count": 39,
   "id": "b0458fe3-8d95-4f15-a8cf-b5da5bfbe01c",
   "metadata": {
    "collapsed": false,
    "jupyter": {
     "outputs_hidden": false
    }
   },
   "outputs": [
    {
     "name": "stdout",
     "output_type": "stream",
     "text": [
      "[[0. 0. 0. 0. 0.]\n",
      " [0. 0. 0. 0. 0.]\n",
      " [0. 0. 0. 0. 0.]\n",
      " [0. 0. 0. 0. 0.]]\n"
     ]
    }
   ],
   "source": [
    "zero_matrix = np.zeros((4, 5))\n",
    "print(zero_matrix)"
   ]
  },
  {
   "cell_type": "markdown",
   "id": "4d7a2712-5459-41a9-891f-ff94f7fe75ef",
   "metadata": {},
   "source": [
    "### 4. Створіть одиничну матрицю розміром (3,3) - див. numpy.identity."
   ]
  },
  {
   "cell_type": "code",
   "execution_count": 40,
   "id": "998ec13d-1d61-4d5b-95d6-2532265e88c2",
   "metadata": {},
   "outputs": [
    {
     "name": "stdout",
     "output_type": "stream",
     "text": [
      "[[1. 0. 0.]\n",
      " [0. 1. 0.]\n",
      " [0. 0. 1.]]\n"
     ]
    }
   ],
   "source": [
    "identity_matrix = np.identity(3)\n",
    "print(identity_matrix)"
   ]
  },
  {
   "cell_type": "markdown",
   "id": "93a287da-b4d9-434c-b7d2-042f380ccc85",
   "metadata": {},
   "source": [
    "### 5. Виведіть розмір матриці, створеної на 2 кроці."
   ]
  },
  {
   "cell_type": "code",
   "execution_count": 41,
   "id": "0767bb1d-e074-42b1-8435-ce334c29f5b2",
   "metadata": {},
   "outputs": [
    {
     "name": "stdout",
     "output_type": "stream",
     "text": [
      "(3, 3)\n"
     ]
    }
   ],
   "source": [
    "print(matrix.shape)"
   ]
  },
  {
   "cell_type": "markdown",
   "id": "5897beca-6182-4ea3-831d-16a68645ca5e",
   "metadata": {},
   "source": [
    "### 6. Створити дві матриці  $A = \n",
    "\\left(\\begin{array}{cc} \n",
    "1 & 2 & 3\\\\\n",
    "4 & 5 & 6\n",
    "\\end{array}\\right)\n",
    "$ і $B = \n",
    "\\left(\\begin{array}{cc} \n",
    "-1 & -2 & -3\\\\\n",
    "-4 & -5 & -6\n",
    "\\end{array}\\right)\n",
    "$. Виконайте операції додавання і віднімання для цих двох матриць."
   ]
  },
  {
   "cell_type": "code",
   "execution_count": 42,
   "id": "214515f8-84e4-4e92-8920-4886153ac932",
   "metadata": {},
   "outputs": [
    {
     "name": "stdout",
     "output_type": "stream",
     "text": [
      "Матриця A:\n",
      "[[1 2 3]\n",
      " [4 5 6]]\n",
      "\n",
      "Матриця B:\n",
      "[[-1 -2 -3]\n",
      " [-4 -5 -6]]\n",
      "\n",
      "Сума матриць A і B:\n",
      "[[0 0 0]\n",
      " [0 0 0]]\n",
      "\n",
      "Різниця матриць A і B:\n",
      "[[ 2  4  6]\n",
      " [ 8 10 12]]\n"
     ]
    }
   ],
   "source": [
    "A = np.array([[1, 2, 3],\n",
    "              [4, 5, 6]])\n",
    "print(\"Матриця A:\")\n",
    "print(A)\n",
    "\n",
    "B = np.array([[-1, -2, -3],\n",
    "              [-4, -5, -6]])\n",
    "print(\"\\nМатриця B:\")\n",
    "print(B)\n",
    "\n",
    "\n",
    "C_add = A + B\n",
    "print(\"\\nСума матриць A і B:\")\n",
    "print(C_add)\n",
    "\n",
    "\n",
    "C_sub = A - B\n",
    "print(\"\\nРізниця матриць A і B:\")\n",
    "print(C_sub)"
   ]
  },
  {
   "cell_type": "markdown",
   "id": "27eaf009-db7a-4300-ac3f-e273a2fbc6ec",
   "metadata": {},
   "source": [
    "### 7.Для вищезазначених матриць виконайте поелементне множення."
   ]
  },
  {
   "cell_type": "code",
   "execution_count": 43,
   "id": "51f64ee4-b7ad-43c2-9678-d6de3bea12fc",
   "metadata": {},
   "outputs": [
    {
     "name": "stdout",
     "output_type": "stream",
     "text": [
      "Помножені матриці:\n",
      "[[ -1  -4  -9]\n",
      " [-16 -25 -36]]\n"
     ]
    }
   ],
   "source": [
    "C_mult = A * B\n",
    "print(\"Помножені матриці:\")\n",
    "print(C_mult)"
   ]
  },
  {
   "cell_type": "markdown",
   "id": "569412d7-0206-4d9d-8e0a-583a11b69078",
   "metadata": {},
   "source": [
    "### 8. До матриці $A$ додайте константу $b=2$."
   ]
  },
  {
   "cell_type": "code",
   "execution_count": 44,
   "id": "94071d6f-a40c-42bd-a983-11aeaa5f019f",
   "metadata": {},
   "outputs": [
    {
     "name": "stdout",
     "output_type": "stream",
     "text": [
      "[[3 4 5]\n",
      " [6 7 8]]\n"
     ]
    }
   ],
   "source": [
    "b = 2\n",
    "A_plus_b = A + b\n",
    "print(A_plus_b)"
   ]
  },
  {
   "cell_type": "markdown",
   "id": "66ffce10-6582-4fc8-8692-409505afbe72",
   "metadata": {},
   "source": [
    "### 9. Виконайте множення матриці $\\left(\\begin{array}{cc} \n",
    "1 & 2 & 3\\\\\n",
    "4 & 5 & 6\n",
    "\\end{array}\\right)\n",
    "$ на матрицю $\\left(\\begin{array}{cc} \n",
    "1 & 1\\\\\n",
    "1 & 1\\\\\n",
    "1 & 1\n",
    "\\end{array}\\right)\n",
    "$"
   ]
  },
  {
   "cell_type": "code",
   "execution_count": 45,
   "id": "fcb70821-4a3a-4c82-b9d6-e603e1af0717",
   "metadata": {},
   "outputs": [
    {
     "name": "stdout",
     "output_type": "stream",
     "text": [
      "Помножені матриці:\n",
      "[[ 6  6]\n",
      " [15 15]]\n"
     ]
    }
   ],
   "source": [
    "B = np.array([[1, 1],\n",
    "              [1, 1],\n",
    "              [1, 1]])\n",
    "C = np.dot(A, B)\n",
    "print(\"Помножені матриці:\")\n",
    "print(C)"
   ]
  },
  {
   "cell_type": "markdown",
   "id": "c58c4e45-63b1-481b-abd2-a3c177ac1bac",
   "metadata": {},
   "source": [
    "### 10. Для двох векторів $v = (1,2,3)$ і $u = (1,1,1)$ знайти Евклідову норму (реалізувати власноруч і перевірити з numpy.linalg.norm)"
   ]
  },
  {
   "cell_type": "code",
   "execution_count": 46,
   "id": "261f1c8b-fcd1-4c85-8ac2-93ca555f1edf",
   "metadata": {},
   "outputs": [
    {
     "name": "stdout",
     "output_type": "stream",
     "text": [
      "Евклідова норма вектора v (вручну): 3.7416573867739413\n",
      "Евклідова норма вектора v (numpy.linalg.norm): 3.7416573867739413\n",
      "\n",
      "Евклідова норма вектора u (вручну): 1.7320508075688772\n",
      "Евклідова норма вектора u (numpy.linalg.norm): 1.7320508075688772\n"
     ]
    }
   ],
   "source": [
    "v = np.array([1, 2, 3])\n",
    "u = np.array([1, 1, 1])\n",
    "\n",
    "def euclidean_norm(vector):\n",
    "    return np.sqrt(np.sum(vector ** 2))\n",
    "\n",
    "norm_v = euclidean_norm(v)\n",
    "norm_u = euclidean_norm(u)\n",
    "\n",
    "norm_v_np = np.linalg.norm(v)\n",
    "norm_u_np = np.linalg.norm(u)\n",
    "\n",
    "print(\"Евклідова норма вектора v (вручну):\", norm_v)\n",
    "print(\"Евклідова норма вектора v (numpy.linalg.norm):\", norm_v_np)\n",
    "print(\"\")\n",
    "print(\"Евклідова норма вектора u (вручну):\", norm_u)\n",
    "print(\"Евклідова норма вектора u (numpy.linalg.norm):\", norm_u_np)"
   ]
  },
  {
   "cell_type": "markdown",
   "id": "00a70951-2508-49d8-ba88-d0ae636f46bc",
   "metadata": {},
   "source": [
    "### 11. Дано вектор $[11,22,33,44,55]$. Необхідно вивести усі елементи від передостаннього елемента до кінця (використайте зріз)."
   ]
  },
  {
   "cell_type": "code",
   "execution_count": 47,
   "id": "3b638897-41a7-44f5-b049-dbdc944d86f9",
   "metadata": {},
   "outputs": [
    {
     "name": "stdout",
     "output_type": "stream",
     "text": [
      "Елементи від передостаннього до кінця:\n",
      "[44 55]\n"
     ]
    }
   ],
   "source": [
    "vector = np.array([11, 22, 33, 44, 55])\n",
    "\n",
    "sliced_vector = vector[-2:]\n",
    "\n",
    "print(\"Елементи від передостаннього до кінця:\")\n",
    "print(sliced_vector)"
   ]
  },
  {
   "cell_type": "code",
   "execution_count": null,
   "id": "0f4ea91f-2499-4bd9-a672-c923249cab03",
   "metadata": {},
   "outputs": [],
   "source": []
  }
 ],
 "metadata": {
  "kernelspec": {
   "display_name": "Python 3 (ipykernel)",
   "language": "python",
   "name": "python3"
  },
  "language_info": {
   "codemirror_mode": {
    "name": "ipython",
    "version": 3
   },
   "file_extension": ".py",
   "mimetype": "text/x-python",
   "name": "python",
   "nbconvert_exporter": "python",
   "pygments_lexer": "ipython3",
   "version": "3.12.1"
  }
 },
 "nbformat": 4,
 "nbformat_minor": 5
}
