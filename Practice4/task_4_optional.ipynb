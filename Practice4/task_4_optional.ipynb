{
 "cells": [
  {
   "cell_type": "markdown",
   "id": "66fc9e4ddfca5b72",
   "metadata": {
    "collapsed": false
   },
   "source": [
    "# Практика №4 (додаткова)\n",
    "## Додаткове завдання по дослідженню даних за допомогою бібліотеки pandas. "
   ]
  },
  {
   "cell_type": "markdown",
   "id": "7f4574bb3f0d29f5",
   "metadata": {
    "collapsed": false
   },
   "source": [
    "В рамках цього завдання ви будете мати справу з наборами даних, які містять інформацію про пацієнтів із трьох лікарень: загальної ( *general* ), допологової ( *prenatal* ) і спортивної ( *sports* )."
   ]
  },
  {
   "cell_type": "code",
   "execution_count": 2,
   "id": "2d95e519371edf19",
   "metadata": {
    "ExecuteTime": {
     "end_time": "2023-09-25T21:26:27.781807100Z",
     "start_time": "2023-09-25T21:26:27.780801400Z"
    },
    "collapsed": false
   },
   "outputs": [],
   "source": [
    "import pandas as pd\n",
    "import matplotlib.pyplot as plt"
   ]
  },
  {
   "cell_type": "code",
   "execution_count": 3,
   "id": "3f2c426cf62b9a6f",
   "metadata": {
    "ExecuteTime": {
     "end_time": "2023-09-25T21:26:29.542039Z",
     "start_time": "2023-09-25T21:26:29.537475900Z"
    },
    "collapsed": false
   },
   "outputs": [],
   "source": [
    "pd.set_option('display.max_columns', 8)"
   ]
  },
  {
   "cell_type": "markdown",
   "id": "931ccb9848382a7b",
   "metadata": {
    "collapsed": false
   },
   "source": [
    "Спочатку необхідно прочитати 3 файли CSV, що містять набори даних."
   ]
  },
  {
   "cell_type": "code",
   "execution_count": 4,
   "id": "cba2f894d10663bb",
   "metadata": {
    "ExecuteTime": {
     "end_time": "2023-09-25T21:28:36.656632100Z",
     "start_time": "2023-09-25T21:28:36.648159Z"
    },
    "collapsed": false
   },
   "outputs": [],
   "source": [
    "general = pd.read_csv('./general.csv')\n",
    "prenatal = pd.read_csv('./prenatal.csv')\n",
    "sports = pd.read_csv('./sports.csv')"
   ]
  },
  {
   "cell_type": "markdown",
   "id": "15ee608c",
   "metadata": {},
   "source": [
    "Надрукуйте перші 20 рядків кожного DataFrame (general, prenatal, sports)"
   ]
  },
  {
   "cell_type": "code",
   "execution_count": 8,
   "id": "d6018d1e10cb15d0",
   "metadata": {
    "ExecuteTime": {
     "end_time": "2023-09-25T21:29:36.662699200Z",
     "start_time": "2023-09-25T21:29:36.649078700Z"
    },
    "collapsed": false
   },
   "outputs": [
    {
     "name": "stdout",
     "output_type": "stream",
     "text": [
      "    Unnamed: 0 hospital gender  age  ...  mri  xray  children months\n",
      "0            0  general    man   33  ...  NaN   NaN       NaN    NaN\n",
      "1            1  general    man   48  ...  NaN   NaN       NaN    NaN\n",
      "2            2  general  woman   23  ...  NaN   NaN       NaN    NaN\n",
      "3            3  general    man   27  ...  NaN   NaN       NaN    NaN\n",
      "4            4  general  woman   22  ...  NaN     f       NaN    NaN\n",
      "5            5  general    man   46  ...  NaN   NaN       NaN    NaN\n",
      "6            6  general  woman   68  ...  NaN   NaN       NaN    NaN\n",
      "7            7  general    man   35  ...  NaN   NaN       NaN    NaN\n",
      "8            8  general  woman   50  ...  NaN     f       NaN    NaN\n",
      "9            9  general    man   25  ...  NaN   NaN       NaN    NaN\n",
      "10          10  general    man   27  ...  NaN   NaN       NaN    NaN\n",
      "11          11  general    man   57  ...  NaN   NaN       NaN    NaN\n",
      "12          12  general    man   29  ...  NaN     f       NaN    NaN\n",
      "13          13  general  woman   18  ...  NaN   NaN       NaN    NaN\n",
      "14          14  general  woman   47  ...  NaN   NaN       NaN    NaN\n",
      "15          15  general  woman   51  ...  NaN   NaN       NaN    NaN\n",
      "16          16  general  woman   56  ...  NaN     t       NaN    NaN\n",
      "17          17  general  woman   38  ...  NaN   NaN       NaN    NaN\n",
      "18          18  general  woman   32  ...  NaN   NaN       NaN    NaN\n",
      "19          19  general  woman   69  ...  NaN     f       NaN    NaN\n",
      "\n",
      "[20 rows x 15 columns]\n",
      "    Unnamed: 0  hospital  gender   age  ...  mri  xray  children months\n",
      "0            0  prenatal     NaN  27.0  ...  NaN     f       0.0    3.0\n",
      "1            1  prenatal     NaN  18.0  ...  NaN     f       1.0    5.0\n",
      "2            2  prenatal     NaN  34.0  ...  NaN     f       1.0    5.0\n",
      "3            3  prenatal     NaN  29.0  ...  NaN     f       2.0    3.0\n",
      "4            4  prenatal     NaN  33.0  ...  NaN     f       1.0    7.0\n",
      "5            5  prenatal     NaN  31.0  ...  NaN     f       0.0    3.0\n",
      "6            6  prenatal     NaN  30.0  ...  NaN     f       0.0    5.0\n",
      "7            7  prenatal     NaN  19.0  ...  NaN     f       1.0    6.0\n",
      "8            8  prenatal     NaN  44.0  ...  NaN     f       2.0    6.0\n",
      "9            9  prenatal     NaN  35.0  ...  NaN     f       0.0    6.0\n",
      "10          10  prenatal     NaN  41.0  ...  NaN     f       2.0    7.0\n",
      "11          11  prenatal     NaN  26.0  ...  NaN     f       0.0    7.0\n",
      "12          12  prenatal     NaN  25.0  ...  NaN     f       1.0    5.0\n",
      "13          13  prenatal     NaN  41.0  ...  NaN     f       2.0    8.0\n",
      "14          14  prenatal     NaN  27.0  ...  NaN     f       0.0    6.0\n",
      "15          15  prenatal     NaN  26.0  ...  NaN     f       2.0    2.0\n",
      "16          16  prenatal     NaN  16.0  ...  NaN     f       1.0    4.0\n",
      "17          17  prenatal     NaN  33.0  ...  NaN     f       1.0    9.0\n",
      "18          18  prenatal     NaN  35.0  ...  NaN     f       1.0    8.0\n",
      "19          19  prenatal     NaN  30.0  ...  NaN     f       2.0    9.0\n",
      "\n",
      "[20 rows x 15 columns]\n",
      "    Unnamed: 0 hospital  gender   age  ...  mri  xray  children months\n",
      "0            0   sports  female  20.0  ...    t     f       NaN    NaN\n",
      "1            1   sports  female  20.0  ...    f     t       NaN    NaN\n",
      "2            2   sports    male  16.0  ...    f     t       NaN    NaN\n",
      "3            3   sports    male  17.0  ...    t     f       NaN    NaN\n",
      "4            4   sports    male  19.0  ...    f     t       NaN    NaN\n",
      "5            5      NaN     NaN   NaN  ...  NaN   NaN       NaN    NaN\n",
      "6            6   sports  female  14.0  ...    t     f       NaN    NaN\n",
      "7            7   sports  female  22.0  ...    t     f       NaN    NaN\n",
      "8            8   sports  female  21.0  ...    f     t       NaN    NaN\n",
      "9            9   sports  female  18.0  ...    t     f       NaN    NaN\n",
      "10          10   sports    male  12.0  ...    f     t       NaN    NaN\n",
      "11          11   sports    male  15.0  ...    f     t       NaN    NaN\n",
      "12          12   sports  female  22.0  ...    f     f       NaN    NaN\n",
      "13          13   sports  female  19.0  ...    f     t       NaN    NaN\n",
      "14          14   sports  female  16.0  ...    f     t       NaN    NaN\n",
      "15          15   sports  female  19.0  ...    f     t       NaN    NaN\n",
      "16          16   sports    male  18.0  ...    f     t       NaN    NaN\n",
      "17          17   sports  female  18.0  ...    t     f       NaN    NaN\n",
      "18          18   sports    male  19.0  ...    f     t       NaN    NaN\n",
      "19          19   sports  female  17.0  ...    t     f       NaN    NaN\n",
      "\n",
      "[20 rows x 15 columns]\n"
     ]
    }
   ],
   "source": [
    "print(general.head(20))\n",
    "print(prenatal.head(20))\n",
    "print(sports.head(20))"
   ]
  },
  {
   "cell_type": "markdown",
   "id": "d55eda52d3c4fbc7",
   "metadata": {
    "collapsed": false
   },
   "source": [
    "З отриманих даних можна переконатися в тому, що воні поділені на три частини, а назви стовпців різні: **HOSPITAL** і **Sex** у пренатальному відділенні ( *prenatal* ), **Hospital** і **Male/female** у спортивному ( *sports* ). Це заважає дослідженню даних і проведенню статистичних розрахунків та візуалізації. Тому необхідно змінити назви стовпців і об’єднаєти отримані набори даних в один.\n",
    "\n",
    "Щоб об’єднати стовпці, використовуйте функцію **concat** і параметр **ignore_index=True**. Після об’єднання з’явиться бічний стовпець **Unnamed: 0**. Цей стовпець містить індекси таблиць. Цей стовпець не потрібен для практичних цілей, тому видаліть його. \n",
    "\n",
    "Кроки виконання:\n",
    "1. Змініть назви стовпців. Всі назви стовпців у спортивній ( *sports* ) і допологовій ( *prenatal* ) таблицях повинні збігатися з назвами стовпців у загальній таблиці ( *general* ). Зверніть увагу на атрибут **columns**.\n",
    "2. Об’єднайте DataFrames в один. Використовуйте параметр **ignore_index=True** і наступний порядок: **general**, **prenatal**, **sports**.\n",
    "3. Видаліть стовпець **Unnamed: 0** (див. функцію **drop**).\n",
    "4. Надрукуйте 20 випадкових рядків отриманого DataFrame. Для відтворення встановіть random_state=30 (див. [документацію](https://pandas.pydata.org/docs/reference/api/pandas.DataFrame.sample.html))."
   ]
  },
  {
   "cell_type": "code",
   "execution_count": 9,
   "id": "7825e875428905ac",
   "metadata": {
    "ExecuteTime": {
     "end_time": "2023-09-25T21:56:46.493911600Z",
     "start_time": "2023-09-25T21:56:46.339661500Z"
    },
    "collapsed": false
   },
   "outputs": [
    {
     "name": "stdout",
     "output_type": "stream",
     "text": [
      "     hospital  gender   age  height  ...  mri  xray children months\n",
      "928    sports    male  22.0   5.961  ...    t     f      NaN    NaN\n",
      "926    sports    male  26.0   5.804  ...    t     f      NaN    NaN\n",
      "901    sports  female  23.0   5.894  ...    t     f      NaN    NaN\n",
      "87    general     man  54.0   1.720  ...  NaN   NaN      NaN    NaN\n",
      "884    sports  female  20.0   6.771  ...    t     f      NaN    NaN\n",
      "297   general     man  56.0   1.480  ...  NaN   NaN      NaN    NaN\n",
      "112   general     man  77.0   1.690  ...  NaN   NaN      NaN    NaN\n",
      "209   general     man  29.0   2.080  ...  NaN   NaN      NaN    NaN\n",
      "419   general     man  53.0   1.700  ...  NaN   NaN      NaN    NaN\n",
      "913    sports  female  22.0   6.435  ...    t     f      NaN    NaN\n",
      "820    sports  female  17.0   5.722  ...    f     t      NaN    NaN\n",
      "861       NaN     NaN   NaN     NaN  ...  NaN   NaN      NaN    NaN\n",
      "10    general     man  27.0   1.850  ...  NaN   NaN      NaN    NaN\n",
      "56    general     man  23.0   1.650  ...  NaN   NaN      NaN    NaN\n",
      "618  prenatal     NaN  30.0   1.490  ...  NaN     f      0.0    2.0\n",
      "978    sports    male  17.0   5.647  ...    f     f      NaN    NaN\n",
      "373   general   woman  44.0   1.660  ...  NaN   NaN      NaN    NaN\n",
      "628  prenatal     NaN  24.0   1.610  ...  NaN     f      0.0    2.0\n",
      "858    sports    male  19.0   7.089  ...    f     t      NaN    NaN\n",
      "944    sports  female  21.0   6.217  ...    f     t      NaN    NaN\n",
      "\n",
      "[20 rows x 14 columns]\n"
     ]
    }
   ],
   "source": [
    "prenatal.columns = general.columns\n",
    "sports.columns = general.columns\n",
    "\n",
    "merged_df = pd.concat([general, prenatal, sports], ignore_index=True)\n",
    "\n",
    "merged_df.drop(columns='Unnamed: 0', inplace=True)\n",
    "\n",
    "print(merged_df.sample(n=20, random_state=30))"
   ]
  },
  {
   "cell_type": "markdown",
   "id": "efe6515726c24510",
   "metadata": {
    "collapsed": false
   },
   "source": [
    "Далі необхідно виправити таблицю для подальшого аналізу. Деякі комірки таблиці мають значення **NaN**: стать пацієнта не визначена в пологовому стаціонарі, а стовпці з результатами медичних досліджень мають порожні значення у всіх трьох таблицях. Якщо розглянути стовпець **gender**, то в ньому можна побачити **female**, **male**, **man**, **woman**. Тому потрібно виправити дані в цьому стовпці - значення мають бути **f** або **m**. Замініть значення порожнього стовпця статі **gender** для пренатальних пацієнтів на **f** (можна припустити, що пренатальний лікує лише жінок).\n",
    "\n",
    "Стовпці **bmi**, **diagnosis**, **blood_test**, **ecg**, **ultrasound**, **mri**, **xray**, **children**, **months** також потрібно виправити. Замініть значення **NaN** у стовпцях вище нулями. \n",
    "\n",
    "Кроки виконання:\n",
    "1. Видалити всі порожні рядки (див. функцію [dropna](https://pandas.pydata.org/docs/reference/api/pandas.DataFrame.dropna.html)).\n",
    "2. Виправте всі значення стовпця **gender** на **f** і **m** відповідно (див. функцію [replace](https://pandas.pydata.org/docs/reference/api/pandas.DataFrame.replace.html)).\n",
    "3. Замініть значення **NaN** у стовпці **gender** допологового стаціонару ( *prenatal* ) на **f** (див. функцію [fillna](https://pandas.pydata.org/docs/reference/api/pandas.DataFrame.fillna.html)).\n",
    "4. Замініть значення **NaN** у стовпцях **bmi**, **diagnosis**, **blood_test**, **ecg**, **ultrasound**, **mri**, **xray**, **children**, **months** на нулі.\n",
    "5. Надрукуйте розміри ( *shape* ) отриманого об'єкту DataFrame.\n",
    "6. Надрукуйте 20 випадкових рядків отриманого DataFrame. Для відтворення встановіть **random_state=30**.\n",
    "\n"
   ]
  },
  {
   "cell_type": "code",
   "execution_count": 11,
   "id": "934883b586b7e306",
   "metadata": {
    "ExecuteTime": {
     "end_time": "2023-09-25T22:42:58.915855800Z",
     "start_time": "2023-09-25T22:42:58.772066900Z"
    },
    "collapsed": false
   },
   "outputs": [
    {
     "name": "stdout",
     "output_type": "stream",
     "text": [
      "Размер DataFrame: (1000, 14)\n",
      "     hospital gender   age  height  ...  mri  xray children months\n",
      "929    sports      f  23.0   6.809  ...    t     f      0.0    0.0\n",
      "927    sports      m  21.0   6.052  ...    t     f      0.0    0.0\n",
      "516  prenatal      f  20.0   1.650  ...    0     f      1.0    4.0\n",
      "87    general      m  54.0   1.720  ...    0     0      0.0    0.0\n",
      "885    sports      f  16.0   5.915  ...    t     f      0.0    0.0\n",
      "463  prenatal      f  34.0   1.650  ...    0     f      1.0    5.0\n",
      "112   general      m  77.0   1.690  ...    0     0      0.0    0.0\n",
      "297   general      m  56.0   1.480  ...    0     0      0.0    0.0\n",
      "417   general      f  26.0   1.650  ...    0     0      0.0    0.0\n",
      "660  prenatal      f  38.0   1.590  ...    0     f      1.0    4.0\n",
      "344   general      f  60.0   1.410  ...    0     0      0.0    0.0\n",
      "834    sports      f  21.0   5.585  ...    f     t      0.0    0.0\n",
      "10    general      m  27.0   1.850  ...    0     0      0.0    0.0\n",
      "56    general      m  23.0   1.650  ...    0     0      0.0    0.0\n",
      "616  prenatal      f  33.0   1.770  ...    0     f      1.0    7.0\n",
      "479  prenatal      f  35.0   1.810  ...    0     f      1.0    8.0\n",
      "578  prenatal      f  31.0   1.770  ...    0     f      1.0    8.0\n",
      "411   general      m  26.0   1.610  ...    0     0      0.0    0.0\n",
      "521  prenatal      f  30.0   1.740  ...    0     f      1.0    3.0\n",
      "941    sports      f  25.0   6.208  ...    f     t      0.0    0.0\n",
      "\n",
      "[20 rows x 14 columns]\n"
     ]
    }
   ],
   "source": [
    "merged_df.dropna(how='all', inplace=True)\n",
    "\n",
    "merged_df['gender'] = merged_df['gender'].replace({'male': 'm', 'man': 'm', 'female': 'f', 'woman': 'f'})\n",
    "\n",
    "merged_df.loc[merged_df['hospital'] == 'prenatal', 'gender'] = merged_df['gender'].fillna('f')\n",
    "\n",
    "columns_to_fill = ['bmi', 'diagnosis', 'blood_test', 'ecg', 'ultrasound', 'mri', 'xray', 'children', 'months']\n",
    "merged_df[columns_to_fill] = merged_df[columns_to_fill].fillna(0)\n",
    "\n",
    "print(\"Размер DataFrame:\", merged_df.shape)\n",
    "\n",
    "print(merged_df.sample(n=20, random_state=30))\n"
   ]
  },
  {
   "cell_type": "markdown",
   "id": "10672eff86259172",
   "metadata": {
    "collapsed": false
   },
   "source": [
    "Після виправлення даних можна отримати основні статистичні характеристики, розподіл даних, тощо. \n",
    "\n",
    "Надайте відповіді на наступні питання:\n",
    "1. Яка лікарня ( *hospital* ) має найбільшу кількість пацієнтів? (див. функції [groupby, count](https://pandas.pydata.org/docs/reference/api/pandas.core.groupby.DataFrameGroupBy.count.html), [idxmax](https://pandas.pydata.org/docs/reference/api/pandas.DataFrame.idxmax.html))\n",
    "2. Яка частка пацієнтів загальної ( *general* ) лікарні страждає на проблеми зі шлунком (стовпець *stomach* )? Округліть результат до третього знака після коми. (зверніть увагу на стовпці *diagnosis*, *stomach*, див. на функцію [value_counts()](https://pandas.pydata.org/docs/reference/api/pandas.Series.value_counts.html))\n",
    "3. Яка різниця в медіанному віці (необхідно знайти значення медіани) пацієнтів загальної ( *general* ) та спортивної ( *sports* ) лікарень? (див. функцію [median()](https://pandas.pydata.org/docs/reference/api/pandas.DataFrame.median.html))\n"
   ]
  },
  {
   "cell_type": "code",
   "execution_count": 13,
   "id": "2e603178c7bca2c0",
   "metadata": {
    "collapsed": false
   },
   "outputs": [
    {
     "name": "stdout",
     "output_type": "stream",
     "text": [
      "Лікарня з найбільшою кількістю пацієнтів: general, Кількість пацієнтів: 461\n",
      "Частка пацієнтів загальної лікарні зі шлунковими проблемами: 0.325\n",
      "Різниця в медіанному віці пацієнтів: 19.0\n"
     ]
    }
   ],
   "source": [
    "hospital_counts = merged_df.groupby('hospital')['hospital'].count()\n",
    "\n",
    "max_hospital = hospital_counts.idxmax()\n",
    "max_count = hospital_counts.max()\n",
    "\n",
    "print(f\"Лікарня з найбільшою кількістю пацієнтів: {max_hospital}, Кількість пацієнтів: {max_count}\")\n",
    "\n",
    "\n",
    "general_patients = merged_df[merged_df['hospital'] == 'general']\n",
    "stomach_issues = general_patients['diagnosis'].value_counts()\n",
    "\n",
    "stomach_fraction = stomach_issues.get('stomach', 0) / len(general_patients)\n",
    "stomach_fraction_rounded = round(stomach_fraction, 3)\n",
    "\n",
    "print(f\"Частка пацієнтів загальної лікарні зі шлунковими проблемами: {stomach_fraction_rounded}\")\n",
    "\n",
    "\n",
    "median_general = merged_df[merged_df['hospital'] == 'general']['age'].median()\n",
    "median_sports = merged_df[merged_df['hospital'] == 'sports']['age'].median()\n",
    "\n",
    "age_difference = median_general - median_sports\n",
    "\n",
    "print(f\"Різниця в медіанному віці пацієнтів: {age_difference}\")\n"
   ]
  },
  {
   "cell_type": "markdown",
   "id": "5cb0a071f2d5f07",
   "metadata": {
    "collapsed": false
   },
   "source": [
    "В кінці необхідно створити візуалізацію даних.\n",
    "Отже, покажіть який вік пацієнтів найчастіше серед усіх лікарень? Побудуйте гістограму та виберіть один із таких вікових діапазонів: 0-15, 15-35, 35-55, 55-70 або 70-80."
   ]
  },
  {
   "cell_type": "code",
   "execution_count": 16,
   "id": "e01f8dbf9a110c47",
   "metadata": {
    "collapsed": false
   },
   "outputs": [
    {
     "data": {
      "image/png": "[encoded data removed]",
      "text/plain": [
       "<Figure size 1000x600 with 1 Axes>"
      ]
     },
     "metadata": {},
     "output_type": "display_data"
    }
   ],
   "source": [
    "bins = [0, 15, 35, 55, 70, 80]\n",
    "labels = ['0-15', '15-35', '35-55', '55-70', '70-80']\n",
    "merged_df['age_group'] = pd.cut(merged_df['age'], bins=bins, labels=labels, right=False)\n",
    "\n",
    "age_counts = merged_df['age_group'].value_counts().sort_index()\n",
    "\n",
    "plt.figure(figsize=(10, 6))\n",
    "plt.bar(age_counts.index, age_counts.values, color='skyblue', edgecolor='black')\n",
    "\n",
    "plt.title('Розподіл віку пацієнтів за лікарнями')\n",
    "plt.xlabel('Вікові діапазони')\n",
    "plt.ylabel('Кількість пацієнтів')\n",
    "plt.xticks(rotation=45)\n",
    "plt.grid(axis='y')\n",
    "\n",
    "plt.tight_layout()\n",
    "plt.show()"
   ]
  }
 ],
 "metadata": {
  "kernelspec": {
   "display_name": "Python 3",
   "language": "python",
   "name": "python3"
  },
  "language_info": {
   "codemirror_mode": {
    "name": "ipython",
    "version": 3
   },
   "file_extension": ".py",
   "mimetype": "text/x-python",
   "name": "python",
   "nbconvert_exporter": "python",
   "pygments_lexer": "ipython3",
   "version": "3.12.1"
  }
 },
 "nbformat": 4,
 "nbformat_minor": 5
}
