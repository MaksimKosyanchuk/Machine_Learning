{
 "cells": [
  {
   "cell_type": "markdown",
   "id": "3d787a28d2d74f5b",
   "metadata": {
    "collapsed": false,
    "jupyter": {
     "outputs_hidden": false
    }
   },
   "source": [
    "# Практика №3 \n",
    "## Дослідження даних за допомогою бібліотеки pandas"
   ]
  },
  {
   "cell_type": "code",
   "execution_count": 1,
   "id": "c7087f89eda1c2b6",
   "metadata": {
    "ExecuteTime": {
     "end_time": "2023-09-19T08:44:55.881833400Z",
     "start_time": "2023-09-19T08:44:55.584053300Z"
    },
    "collapsed": false,
    "jupyter": {
     "outputs_hidden": false
    }
   },
   "outputs": [],
   "source": [
    "import numpy as np\n",
    "import pandas as pd\n",
    "import matplotlib.pyplot as plt"
   ]
  },
  {
   "cell_type": "markdown",
   "id": "8a156acf-c647-4e9a-9ab1-d091f06c027f",
   "metadata": {},
   "source": [
    "### Зчитайте файл players_20.csv"
   ]
  },
  {
   "cell_type": "code",
   "execution_count": 6,
   "id": "cd1b6214f1e27fac",
   "metadata": {
    "ExecuteTime": {
     "end_time": "2023-09-19T08:45:03.752662600Z",
     "start_time": "2023-09-19T08:45:03.750130900Z"
    },
    "collapsed": false,
    "jupyter": {
     "outputs_hidden": false
    }
   },
   "outputs": [],
   "source": [
    "df_data = pd.read_csv('./players_20.csv')"
   ]
  },
  {
   "cell_type": "markdown",
   "id": "2f8d5ae1",
   "metadata": {},
   "source": [
    "### Виведіть перші 6 рядків об'єкту DataFrame"
   ]
  },
  {
   "cell_type": "code",
   "execution_count": 7,
   "id": "25973717c53c8066",
   "metadata": {
    "ExecuteTime": {
     "end_time": "2023-09-19T08:45:09.803122Z",
     "start_time": "2023-09-19T08:45:09.801083200Z"
    },
    "collapsed": false,
    "jupyter": {
     "outputs_hidden": false
    }
   },
   "outputs": [
    {
     "name": "stdout",
     "output_type": "stream",
     "text": [
      "   sofifa_id                                         player_url  \\\n",
      "0     158023  https://sofifa.com/player/158023/lionel-messi/...   \n",
      "1      20801  https://sofifa.com/player/20801/c-ronaldo-dos-...   \n",
      "2     190871  https://sofifa.com/player/190871/neymar-da-sil...   \n",
      "3     200389  https://sofifa.com/player/200389/jan-oblak/20/...   \n",
      "4     183277  https://sofifa.com/player/183277/eden-hazard/2...   \n",
      "5     192985  https://sofifa.com/player/192985/kevin-de-bruy...   \n",
      "\n",
      "          short_name                            long_name  age         dob  \\\n",
      "0           L. Messi       Lionel Andrés Messi Cuccittini   32  1987-06-24   \n",
      "1  Cristiano Ronaldo  Cristiano Ronaldo dos Santos Aveiro   34  1985-02-05   \n",
      "2          Neymar Jr        Neymar da Silva Santos Junior   27  1992-02-05   \n",
      "3           J. Oblak                            Jan Oblak   26  1993-01-07   \n",
      "4          E. Hazard                          Eden Hazard   28  1991-01-07   \n",
      "5       K. De Bruyne                      Kevin De Bruyne   28  1991-06-28   \n",
      "\n",
      "   height_cm  weight_kg nationality                 club  ...   lwb   ldm  \\\n",
      "0        170         72   Argentina         FC Barcelona  ...  68+2  66+2   \n",
      "1        187         83    Portugal             Juventus  ...  65+3  61+3   \n",
      "2        175         68      Brazil  Paris Saint-Germain  ...  66+3  61+3   \n",
      "3        188         87    Slovenia      Atlético Madrid  ...   NaN   NaN   \n",
      "4        175         74     Belgium          Real Madrid  ...  66+3  63+3   \n",
      "5        181         70     Belgium      Manchester City  ...  77+3  77+3   \n",
      "\n",
      "    cdm   rdm   rwb    lb   lcb    cb   rcb    rb  \n",
      "0  66+2  66+2  68+2  63+2  52+2  52+2  52+2  63+2  \n",
      "1  61+3  61+3  65+3  61+3  53+3  53+3  53+3  61+3  \n",
      "2  61+3  61+3  66+3  61+3  46+3  46+3  46+3  61+3  \n",
      "3   NaN   NaN   NaN   NaN   NaN   NaN   NaN   NaN  \n",
      "4  63+3  63+3  66+3  61+3  49+3  49+3  49+3  61+3  \n",
      "5  77+3  77+3  77+3  73+3  66+3  66+3  66+3  73+3  \n",
      "\n",
      "[6 rows x 104 columns]\n"
     ]
    }
   ],
   "source": [
    "print(df_data.head(6))\n"
   ]
  },
  {
   "cell_type": "markdown",
   "id": "f4696e51",
   "metadata": {},
   "source": [
    "### Отримайте розміри об'єкту DataFrame"
   ]
  },
  {
   "cell_type": "code",
   "execution_count": 11,
   "id": "2775a85f0ca4329e",
   "metadata": {
    "ExecuteTime": {
     "end_time": "2023-09-19T08:45:22.297509Z",
     "start_time": "2023-09-19T08:45:22.297509Z"
    },
    "collapsed": false,
    "jupyter": {
     "outputs_hidden": false
    }
   },
   "outputs": [
    {
     "name": "stdout",
     "output_type": "stream",
     "text": [
      "(18278, 104)\n"
     ]
    }
   ],
   "source": [
    "print(df_data.shape)"
   ]
  },
  {
   "cell_type": "markdown",
   "id": "9bdc0a04",
   "metadata": {},
   "source": [
    "### Отримайте список стовпців міток"
   ]
  },
  {
   "cell_type": "code",
   "execution_count": 73,
   "id": "6bde006fa1aaa15f",
   "metadata": {
    "ExecuteTime": {
     "end_time": "2023-09-19T08:45:31.988059900Z",
     "start_time": "2023-09-19T08:45:31.988059900Z"
    },
    "collapsed": false,
    "jupyter": {
     "outputs_hidden": false
    }
   },
   "outputs": [
    {
     "name": "stdout",
     "output_type": "stream",
     "text": [
      "['sofifa_id', 'player_url', 'short_name', 'long_name', 'age', 'dob', 'height_cm', 'weight_kg', 'nationality', 'club', 'overall', 'potential', 'value_eur', 'wage_eur', 'player_positions', 'preferred_foot', 'international_reputation', 'weak_foot', 'skill_moves', 'work_rate', 'body_type', 'real_face', 'release_clause_eur', 'player_tags', 'team_position', 'team_jersey_number', 'loaned_from', 'joined', 'contract_valid_until', 'nation_position', 'nation_jersey_number', 'pace', 'shooting', 'passing', 'dribbling', 'defending', 'physic', 'gk_diving', 'gk_handling', 'gk_kicking', 'gk_reflexes', 'gk_speed', 'gk_positioning', 'player_traits', 'attacking_crossing', 'attacking_finishing', 'attacking_heading_accuracy', 'attacking_short_passing', 'attacking_volleys', 'skill_dribbling', 'skill_curve', 'skill_fk_accuracy', 'skill_long_passing', 'skill_ball_control', 'movement_acceleration', 'movement_sprint_speed', 'movement_agility', 'movement_reactions', 'movement_balance', 'power_shot_power', 'power_jumping', 'power_stamina', 'power_strength', 'power_long_shots', 'mentality_aggression', 'mentality_interceptions', 'mentality_positioning', 'mentality_vision', 'mentality_penalties', 'mentality_composure', 'defending_marking', 'defending_standing_tackle', 'defending_sliding_tackle', 'goalkeeping_diving', 'goalkeeping_handling', 'goalkeeping_kicking', 'goalkeeping_positioning', 'goalkeeping_reflexes', 'ls', 'st', 'rs', 'lw', 'lf', 'cf', 'rf', 'rw', 'lam', 'cam', 'ram', 'lm', 'lcm', 'cm', 'rcm', 'rm', 'lwb', 'ldm', 'cdm', 'rdm', 'rwb', 'lb', 'lcb', 'cb', 'rcb', 'rb', 'height_m', 'BMI']\n"
     ]
    }
   ],
   "source": [
    "print(list(df_data.columns))\n"
   ]
  },
  {
   "cell_type": "markdown",
   "id": "e05479df5db4e603",
   "metadata": {
    "ExecuteTime": {
     "end_time": "2023-09-19T08:45:47.164845400Z",
     "start_time": "2023-09-19T08:45:47.134899500Z"
    },
    "collapsed": false,
    "jupyter": {
     "outputs_hidden": false
    }
   },
   "source": [
    "### Створіть список з переліком назв стовпців, які потім необхідно буде видалити"
   ]
  },
  {
   "cell_type": "code",
   "execution_count": 16,
   "id": "5e931f41",
   "metadata": {},
   "outputs": [],
   "source": [
    "useless_columns = ['dob', 'sofifa_id', 'player_url', 'long_name', 'body_type', 'real_face', 'loaned_from', 'nation_position', 'nation_jersey_number']"
   ]
  },
  {
   "cell_type": "markdown",
   "id": "4fc7ab7f",
   "metadata": {},
   "source": [
    "### Видаліть вказані вище мітки стовпці і вивести перші 10 рядків"
   ]
  },
  {
   "cell_type": "code",
   "execution_count": 17,
   "id": "e1dfb4c228816c63",
   "metadata": {
    "ExecuteTime": {
     "end_time": "2023-09-19T08:45:52.621562900Z",
     "start_time": "2023-09-19T08:45:52.604905100Z"
    },
    "collapsed": false,
    "jupyter": {
     "outputs_hidden": false
    }
   },
   "outputs": [
    {
     "name": "stdout",
     "output_type": "stream",
     "text": [
      "          short_name  age  height_cm  weight_kg  nationality  \\\n",
      "0           L. Messi   32        170         72    Argentina   \n",
      "1  Cristiano Ronaldo   34        187         83     Portugal   \n",
      "2          Neymar Jr   27        175         68       Brazil   \n",
      "3           J. Oblak   26        188         87     Slovenia   \n",
      "4          E. Hazard   28        175         74      Belgium   \n",
      "5       K. De Bruyne   28        181         70      Belgium   \n",
      "6      M. ter Stegen   27        187         85      Germany   \n",
      "7        V. van Dijk   27        193         92  Netherlands   \n",
      "8          L. Modrić   33        172         66      Croatia   \n",
      "9           M. Salah   27        175         71        Egypt   \n",
      "\n",
      "                  club  overall  potential  value_eur  wage_eur  ...   lwb  \\\n",
      "0         FC Barcelona       94         94   95500000    565000  ...  68+2   \n",
      "1             Juventus       93         93   58500000    405000  ...  65+3   \n",
      "2  Paris Saint-Germain       92         92  105500000    290000  ...  66+3   \n",
      "3      Atlético Madrid       91         93   77500000    125000  ...   NaN   \n",
      "4          Real Madrid       91         91   90000000    470000  ...  66+3   \n",
      "5      Manchester City       91         91   90000000    370000  ...  77+3   \n",
      "6         FC Barcelona       90         93   67500000    250000  ...   NaN   \n",
      "7            Liverpool       90         91   78000000    200000  ...  79+3   \n",
      "8          Real Madrid       90         90   45000000    340000  ...  81+3   \n",
      "9            Liverpool       90         90   80500000    240000  ...  70+3   \n",
      "\n",
      "    ldm   cdm   rdm   rwb    lb   lcb    cb   rcb    rb  \n",
      "0  66+2  66+2  66+2  68+2  63+2  52+2  52+2  52+2  63+2  \n",
      "1  61+3  61+3  61+3  65+3  61+3  53+3  53+3  53+3  61+3  \n",
      "2  61+3  61+3  61+3  66+3  61+3  46+3  46+3  46+3  61+3  \n",
      "3   NaN   NaN   NaN   NaN   NaN   NaN   NaN   NaN   NaN  \n",
      "4  63+3  63+3  63+3  66+3  61+3  49+3  49+3  49+3  61+3  \n",
      "5  77+3  77+3  77+3  77+3  73+3  66+3  66+3  66+3  73+3  \n",
      "6   NaN   NaN   NaN   NaN   NaN   NaN   NaN   NaN   NaN  \n",
      "7  83+3  83+3  83+3  79+3  81+3  87+3  87+3  87+3  81+3  \n",
      "8  81+3  81+3  81+3  81+3  79+3  72+3  72+3  72+3  79+3  \n",
      "9  67+3  67+3  67+3  70+3  66+3  57+3  57+3  57+3  66+3  \n",
      "\n",
      "[10 rows x 95 columns]\n"
     ]
    }
   ],
   "source": [
    "df_dropped = df_data.drop(columns=useless_columns, axis=1)\n",
    "\n",
    "print(df_dropped.head(10))\n"
   ]
  },
  {
   "cell_type": "markdown",
   "id": "b08c8221f6089283",
   "metadata": {
    "ExecuteTime": {
     "end_time": "2023-09-19T08:47:56.781678400Z",
     "start_time": "2023-09-19T08:47:56.758414900Z"
    },
    "collapsed": false,
    "jupyter": {
     "outputs_hidden": false
    }
   },
   "source": [
    "### Виведіть останні 5 рядків за стовпцем з міткою 'weight_kg'\n"
   ]
  },
  {
   "cell_type": "code",
   "execution_count": 72,
   "id": "933b848b",
   "metadata": {},
   "outputs": [
    {
     "name": "stdout",
     "output_type": "stream",
     "text": [
      "       weight_kg\n",
      "18273         79\n",
      "18274         66\n",
      "18275         75\n",
      "18276         74\n",
      "18277         78\n"
     ]
    }
   ],
   "source": [
    "print(df_data[['weight_kg']].tail(5))"
   ]
  },
  {
   "cell_type": "markdown",
   "id": "8964830b2cf17e14",
   "metadata": {
    "ExecuteTime": {
     "end_time": "2023-09-19T08:49:02.814821400Z",
     "start_time": "2023-09-19T08:49:02.814317100Z"
    },
    "collapsed": false,
    "jupyter": {
     "outputs_hidden": false
    }
   },
   "source": [
    "### Виведіть перші 5 рядків за двома стовпцями з мітками 'short_name', 'weight_kg'\n"
   ]
  },
  {
   "cell_type": "code",
   "execution_count": 71,
   "id": "a08c6f20",
   "metadata": {},
   "outputs": [
    {
     "name": "stdout",
     "output_type": "stream",
     "text": [
      "          short_name  weight_kg\n",
      "0           L. Messi         72\n",
      "1  Cristiano Ronaldo         83\n",
      "2          Neymar Jr         68\n",
      "3           J. Oblak         87\n",
      "4          E. Hazard         74\n"
     ]
    }
   ],
   "source": [
    "print(df_data[['short_name', 'weight_kg']].head(5))"
   ]
  },
  {
   "cell_type": "markdown",
   "id": "4a03eda472d36f1",
   "metadata": {
    "ExecuteTime": {
     "end_time": "2023-09-18T21:54:58.564104Z",
     "start_time": "2023-09-18T21:54:58.553654400Z"
    },
    "collapsed": false,
    "jupyter": {
     "outputs_hidden": false
    }
   },
   "source": [
    "### Розрахуйте індекс маси тіла для кожного гравця і отримані дані мають бути додані до df_dropped за стовпцем з назвою мітки 'BMI'\n",
    "\n"
   ]
  },
  {
   "cell_type": "code",
   "execution_count": 33,
   "id": "d36a221a",
   "metadata": {},
   "outputs": [
    {
     "name": "stdout",
     "output_type": "stream",
     "text": [
      "          short_name  age  height_cm  weight_kg nationality  \\\n",
      "0           L. Messi   32        170         72   Argentina   \n",
      "1  Cristiano Ronaldo   34        187         83    Portugal   \n",
      "2          Neymar Jr   27        175         68      Brazil   \n",
      "3           J. Oblak   26        188         87    Slovenia   \n",
      "4          E. Hazard   28        175         74     Belgium   \n",
      "\n",
      "                  club  overall  potential  value_eur  wage_eur  ...   ldm  \\\n",
      "0         FC Barcelona       94         94   95500000    565000  ...  66+2   \n",
      "1             Juventus       93         93   58500000    405000  ...  61+3   \n",
      "2  Paris Saint-Germain       92         92  105500000    290000  ...  61+3   \n",
      "3      Atlético Madrid       91         93   77500000    125000  ...   NaN   \n",
      "4          Real Madrid       91         91   90000000    470000  ...  63+3   \n",
      "\n",
      "    cdm   rdm   rwb    lb   lcb    cb   rcb    rb        BMI  \n",
      "0  66+2  66+2  68+2  63+2  52+2  52+2  52+2  63+2  24.913495  \n",
      "1  61+3  61+3  65+3  61+3  53+3  53+3  53+3  61+3  23.735308  \n",
      "2  61+3  61+3  66+3  61+3  46+3  46+3  46+3  61+3  22.204082  \n",
      "3   NaN   NaN   NaN   NaN   NaN   NaN   NaN   NaN  24.615211  \n",
      "4  63+3  63+3  66+3  61+3  49+3  49+3  49+3  61+3  24.163265  \n",
      "\n",
      "[5 rows x 96 columns]\n"
     ]
    }
   ],
   "source": [
    "df_data['height_m'] = df_data['height_cm'] / 100\n",
    "\n",
    "df_data['BMI'] = df_data['weight_kg'] / (df_data['height_m'] ** 2)\n",
    "\n",
    "df_dropped['BMI'] = df_data['BMI']\n",
    "\n",
    "print(df_dropped.head())"
   ]
  },
  {
   "cell_type": "markdown",
   "id": "e2e541a417247cee",
   "metadata": {
    "collapsed": false,
    "jupyter": {
     "outputs_hidden": false
    }
   },
   "source": [
    "### Вивести перші 10 рядків зі стовпцями з мітками 'short_name' і 'BMI'\n",
    " "
   ]
  },
  {
   "cell_type": "code",
   "execution_count": 35,
   "id": "e78cef8795a875ae",
   "metadata": {
    "ExecuteTime": {
     "end_time": "2023-09-19T09:15:54.949850800Z",
     "start_time": "2023-09-19T09:15:54.886299200Z"
    },
    "collapsed": false,
    "jupyter": {
     "outputs_hidden": false
    }
   },
   "outputs": [
    {
     "name": "stdout",
     "output_type": "stream",
     "text": [
      "          short_name        BMI\n",
      "0           L. Messi  24.913495\n",
      "1  Cristiano Ronaldo  23.735308\n",
      "2          Neymar Jr  22.204082\n",
      "3           J. Oblak  24.615211\n",
      "4          E. Hazard  24.163265\n",
      "5       K. De Bruyne  21.366869\n",
      "6      M. ter Stegen  24.307244\n",
      "7        V. van Dijk  24.698650\n",
      "8          L. Modrić  22.309356\n",
      "9           M. Salah  23.183673\n"
     ]
    }
   ],
   "source": [
    "print(df_dropped[[\"short_name\", \"BMI\"]].head(10))"
   ]
  },
  {
   "cell_type": "markdown",
   "id": "af6b370e",
   "metadata": {},
   "source": [
    "### Побудуйте гістограму роздподілу за індексом маси тіла"
   ]
  },
  {
   "cell_type": "code",
   "execution_count": 53,
   "id": "37a5e64445fee26",
   "metadata": {},
   "outputs": [
    {
     "data": {
      "image/png": "[encoded data removed]",
      "text/plain": [
       "<Figure size 1500x600 with 1 Axes>"
      ]
     },
     "metadata": {},
     "output_type": "display_data"
    }
   ],
   "source": [
    "plt.figure(figsize=(15, 6))\n",
    "plt.hist(df_dropped['BMI'], bins=100, edgecolor='black', alpha=1)\n",
    "plt.title('Розподіл індексу маси тіла (BMI)')\n",
    "plt.xlabel('BMI')\n",
    "plt.ylabel('Частота')\n",
    "plt.grid(False)\n",
    "plt.show()"
   ]
  },
  {
   "cell_type": "markdown",
   "id": "f6455ae414ca2a40",
   "metadata": {
    "ExecuteTime": {
     "end_time": "2023-09-19T09:39:42.859608900Z",
     "start_time": "2023-09-19T09:39:42.854113900Z"
    },
    "collapsed": false,
    "jupyter": {
     "outputs_hidden": false
    }
   },
   "source": [
    "### Побудувати гістограму розподілу гравців за віком (стовпець 'age')"
   ]
  },
  {
   "cell_type": "code",
   "execution_count": 61,
   "id": "b64479dd",
   "metadata": {},
   "outputs": [
    {
     "data": {
      "image/png": "[encoded data removed]",
      "text/plain": [
       "<Figure size 1500x600 with 1 Axes>"
      ]
     },
     "metadata": {},
     "output_type": "display_data"
    }
   ],
   "source": [
    "plt.figure(figsize=(15, 6))\n",
    "plt.hist(df_dropped['age'], bins=25, edgecolor='black', alpha=1)\n",
    "plt.title('Розподіл за віком')\n",
    "plt.xlabel('Вік')\n",
    "plt.ylabel('Частота')\n",
    "plt.grid(False)\n",
    "plt.show()"
   ]
  },
  {
   "cell_type": "markdown",
   "id": "55ec30631bf6eb40",
   "metadata": {
    "collapsed": false,
    "jupyter": {
     "outputs_hidden": false
    }
   },
   "source": [
    "### Для гравців старше 30 років знайти середнє значення і медіану ваги (стовпець 'weight_kg). Вивести останні 10 гравців. "
   ]
  },
  {
   "cell_type": "code",
   "execution_count": 70,
   "id": "43472d3f",
   "metadata": {},
   "outputs": [
    {
     "name": "stdout",
     "output_type": "stream",
     "text": [
      "Середнє значення ваги для гравців старше 30 років: 77.52 кг\n",
      "Медіана ваги для гравців старше 30 років: 77.00 кг\n",
      "       sofifa_id                                         player_url  \\\n",
      "17072     222117  https://sofifa.com/player/222117/jun-shen/20/1...   \n",
      "17074     231669  https://sofifa.com/player/231669/anibal-mosque...   \n",
      "17346     138083  https://sofifa.com/player/138083/nicky-hunt/20...   \n",
      "17347     232539  https://sofifa.com/player/232539/kota-ogi/20/1...   \n",
      "17581     231593  https://sofifa.com/player/231593/gareth-harkin...   \n",
      "17582     242409  https://sofifa.com/player/242409/hui-jin/20/15...   \n",
      "17778     224695  https://sofifa.com/player/224695/zhen-ge/20/15...   \n",
      "17946      11430  https://sofifa.com/player/11430/jamie-mccombe/...   \n",
      "17948     245558  https://sofifa.com/player/245558/gary-maley/20...   \n",
      "18233     182461  https://sofifa.com/player/182461/ting-zhou/20/...   \n",
      "\n",
      "        short_name        long_name  age         dob  height_cm  weight_kg  \\\n",
      "17072     Shen Jun               沈俊   32  1986-10-05        186         88   \n",
      "17074  A. Mosquera  Aníbal Mosquera   37  1981-07-10        176         66   \n",
      "17346      N. Hunt       Nicky Hunt   35  1983-09-03        185         86   \n",
      "17347       K. Ogi             荻 晃太   36  1983-05-05        185         76   \n",
      "17581    G. Harkin    Gareth Harkin   31  1987-12-19        180         80   \n",
      "17582      Jin Hui               靳辉   31  1988-03-10        183         81   \n",
      "17778      Ge Zhen          Zhen Ge   32  1987-06-23        179         72   \n",
      "17946   J. McCombe   Jamie  McCombe   36  1983-01-01        196         79   \n",
      "17948     G. Maley       Gary Maley   36  1982-08-03        188         90   \n",
      "18233    Zhou Ting               周挺   40  1979-02-05        182         73   \n",
      "\n",
      "               nationality                           club  ...   cdm   rdm  \\\n",
      "17072             China PR  Shanghai Greenland Shenhua FC  ...   NaN   NaN   \n",
      "17074             Colombia                Unión Magdalena  ...  48+2  48+2   \n",
      "17346              England                Crewe Alexandra  ...  55+2  55+2   \n",
      "17347                Japan                    Vissel Kobe  ...   NaN   NaN   \n",
      "17581  Republic of Ireland                     Finn Harps  ...  55+2  55+2   \n",
      "17582             China PR               Beijing Renhe FC  ...  32+2  32+2   \n",
      "17778             China PR                    Shenzhen FC  ...  43+2  43+2   \n",
      "17946              England                   Lincoln City  ...  44+2  44+2   \n",
      "17948             Scotland                  Livingston FC  ...   NaN   NaN   \n",
      "18233             China PR               Dalian YiFang FC  ...  50+2  50+2   \n",
      "\n",
      "        rwb    lb   lcb    cb   rcb    rb  height_m        BMI  \n",
      "17072   NaN   NaN   NaN   NaN   NaN   NaN      1.86  25.436467  \n",
      "17074  48+2  47+2  45+2  45+2  45+2  47+2      1.76  21.306818  \n",
      "17346  54+2  53+2  58+2  58+2  58+2  53+2      1.85  25.127831  \n",
      "17347   NaN   NaN   NaN   NaN   NaN   NaN      1.85  22.205990  \n",
      "17581  53+2  52+2  52+2  52+2  52+2  52+2      1.80  24.691358  \n",
      "17582  34+2  34+2  34+2  34+2  34+2  34+2      1.83  24.187046  \n",
      "17778  50+2  51+2  50+2  50+2  50+2  51+2      1.79  22.471209  \n",
      "17946  38+2  41+2  50+2  50+2  50+2  41+2      1.96  20.564348  \n",
      "17948   NaN   NaN   NaN   NaN   NaN   NaN      1.88  25.464011  \n",
      "18233  48+2  48+2  51+2  51+2  51+2  48+2      1.82  22.038401  \n",
      "\n",
      "[10 rows x 106 columns]\n"
     ]
    }
   ],
   "source": [
    "players_over_30 = df_data[df_data['age'] > 30]\n",
    "\n",
    "mean_weight = players_over_30['weight_kg'].mean()\n",
    "median_weight = players_over_30['weight_kg'].median()\n",
    "\n",
    "print(f\"Середнє значення ваги для гравців старше 30 років: {mean_weight:.2f} кг\")\n",
    "print(f\"Медіана ваги для гравців старше 30 років: {median_weight:.2f} кг\")\n",
    "\n",
    "print(players_over_30.tail(10))"
   ]
  },
  {
   "cell_type": "markdown",
   "id": "2ea2160ad1c9356d",
   "metadata": {},
   "source": [
    "### Отримайте кількість гравців за національність (стовпець 'nationality' і див. метод value_counts()). Далі відсортуйте у порядку спадання і виведіть перші 7 рядків."
   ]
  },
  {
   "cell_type": "code",
   "execution_count": 69,
   "id": "db6d527916252a51",
   "metadata": {},
   "outputs": [
    {
     "name": "stdout",
     "output_type": "stream",
     "text": [
      "nationality\n",
      "England      1667\n",
      "Germany      1216\n",
      "Spain        1035\n",
      "France        984\n",
      "Argentina     886\n",
      "Brazil        824\n",
      "Italy         732\n",
      "Name: count, dtype: int64\n"
     ]
    }
   ],
   "source": [
    "print(df_data['nationality'].value_counts().head(7))"
   ]
  }
 ],
 "metadata": {
  "kernelspec": {
   "display_name": "Python 3 (ipykernel)",
   "language": "python",
   "name": "python3"
  },
  "language_info": {
   "codemirror_mode": {
    "name": "ipython",
    "version": 3
   },
   "file_extension": ".py",
   "mimetype": "text/x-python",
   "name": "python",
   "nbconvert_exporter": "python",
   "pygments_lexer": "ipython3",
   "version": "3.12.1"
  }
 },
 "nbformat": 4,
 "nbformat_minor": 5
}
